{
 "cells": [
  {
   "cell_type": "code",
   "execution_count": 1,
   "id": "ecacf0cb-c50d-46b7-b62f-e698e11491ee",
   "metadata": {},
   "outputs": [],
   "source": [
    "import os\n",
    "import sys"
   ]
  },
  {
   "cell_type": "code",
   "execution_count": 2,
   "id": "8dc7e92c-d550-4ff0-9599-5322469cd5cf",
   "metadata": {},
   "outputs": [],
   "source": [
    "import torch"
   ]
  },
  {
   "cell_type": "code",
   "execution_count": 3,
   "id": "8412b42f-5b55-4aa4-82ce-220122d6dac5",
   "metadata": {},
   "outputs": [],
   "source": [
    "from datasets import load_dataset"
   ]
  },
  {
   "cell_type": "code",
   "execution_count": 4,
   "id": "029bf5c7-1861-43db-8e47-2318e4170d50",
   "metadata": {},
   "outputs": [],
   "source": [
    "dataset = load_dataset(\"allenai/real-toxicity-prompts\")"
   ]
  },
  {
   "cell_type": "code",
   "execution_count": 5,
   "id": "823d6749-6219-429b-9526-55bb842d4003",
   "metadata": {},
   "outputs": [],
   "source": [
    "dataset = dataset['train']"
   ]
  },
  {
   "cell_type": "code",
   "execution_count": 6,
   "id": "7c1f215e-0d1f-471c-a5f4-109b4f06850b",
   "metadata": {},
   "outputs": [],
   "source": [
    "import numpy as np\n",
    "def get_random_tensors(l, hdim=100):\n",
    "    \"\"\"returns l x hdim tensor\"\"\"\n",
    "    return torch.rand(l, hdim)\n",
    "def get_y(datum):\n",
    "    \"\"\"returns rtp signal: bsize x 8\"\"\"\n",
    "    cont = [d['continuation'] for d in datum]\n",
    "    return torch.tensor(np.nan_to_num(np.array([list(l.values())[1:] for l in cont], dtype=np.float64)), dtype=torch.float64)"
   ]
  },
  {
   "cell_type": "code",
   "execution_count": 7,
   "id": "11d0331a-23ec-4468-a8a4-bab3f5458745",
   "metadata": {},
   "outputs": [],
   "source": [
    "# lets batch encode a dataset:\n",
    "class randomDataset(torch.utils.data.dataset.Dataset):\n",
    "    def __init__(self, dataset, hdim=100):\n",
    "        self.X = get_random_tensors(len(dataset), hdim)\n",
    "    def __len__(self):\n",
    "        return len(self.X)\n",
    "    def __getitem__(self, idx):\n",
    "        return self.X[idx]"
   ]
  },
  {
   "cell_type": "markdown",
   "id": "c926b9de-e252-4c0f-9974-f189438c9d12",
   "metadata": {},
   "source": [
    "### Putting it all together"
   ]
  },
  {
   "cell_type": "code",
   "execution_count": 8,
   "id": "b885edba-da40-4f76-802d-0480a4a86e18",
   "metadata": {},
   "outputs": [],
   "source": [
    "from tqdm import tqdm"
   ]
  },
  {
   "cell_type": "code",
   "execution_count": 9,
   "id": "5ccdbbd4-5f89-41ff-a0f7-e8c7ad912c9c",
   "metadata": {},
   "outputs": [],
   "source": [
    "import wandb"
   ]
  },
  {
   "cell_type": "code",
   "execution_count": 10,
   "id": "6a6853c4-cd6c-430b-9b65-884535b3efdd",
   "metadata": {
    "scrolled": true
   },
   "outputs": [
    {
     "name": "stderr",
     "output_type": "stream",
     "text": [
      "\u001b[34m\u001b[1mwandb\u001b[0m: Currently logged in as: \u001b[33mzubin\u001b[0m (\u001b[33mlowercaselabs\u001b[0m). Use \u001b[1m`wandb login --relogin`\u001b[0m to force relogin\n"
     ]
    },
    {
     "data": {
      "text/html": [
       "wandb version 0.16.6 is available!  To upgrade, please run:\n",
       " $ pip install wandb --upgrade"
      ],
      "text/plain": [
       "<IPython.core.display.HTML object>"
      ]
     },
     "metadata": {},
     "output_type": "display_data"
    },
    {
     "data": {
      "text/html": [
       "Tracking run with wandb version 0.16.2"
      ],
      "text/plain": [
       "<IPython.core.display.HTML object>"
      ]
     },
     "metadata": {},
     "output_type": "display_data"
    },
    {
     "data": {
      "text/html": [
       "Run data is saved locally in <code>/Users/zubin/Documents/lowercaseLabs/wandb/run-20240416_214421-ssw2xjxf</code>"
      ],
      "text/plain": [
       "<IPython.core.display.HTML object>"
      ]
     },
     "metadata": {},
     "output_type": "display_data"
    },
    {
     "data": {
      "text/html": [
       "Syncing run <strong><a href='https://wandb.ai/lowercaselabs/deepGenTest/runs/ssw2xjxf' target=\"_blank\">splendid-cherry-6</a></strong> to <a href='https://wandb.ai/lowercaselabs/deepGenTest' target=\"_blank\">Weights & Biases</a> (<a href='https://wandb.me/run' target=\"_blank\">docs</a>)<br/>"
      ],
      "text/plain": [
       "<IPython.core.display.HTML object>"
      ]
     },
     "metadata": {},
     "output_type": "display_data"
    },
    {
     "data": {
      "text/html": [
       " View project at <a href='https://wandb.ai/lowercaselabs/deepGenTest' target=\"_blank\">https://wandb.ai/lowercaselabs/deepGenTest</a>"
      ],
      "text/plain": [
       "<IPython.core.display.HTML object>"
      ]
     },
     "metadata": {},
     "output_type": "display_data"
    },
    {
     "data": {
      "text/html": [
       " View run at <a href='https://wandb.ai/lowercaselabs/deepGenTest/runs/ssw2xjxf' target=\"_blank\">https://wandb.ai/lowercaselabs/deepGenTest/runs/ssw2xjxf</a>"
      ],
      "text/plain": [
       "<IPython.core.display.HTML object>"
      ]
     },
     "metadata": {},
     "output_type": "display_data"
    },
    {
     "name": "stderr",
     "output_type": "stream",
     "text": [
      "Epoch: 0: 100%|████████████████████████████| 1554/1554 [00:04<00:00, 315.70it/s]\n"
     ]
    },
    {
     "name": "stdout",
     "output_type": "stream",
     "text": [
      "with loss: 45460.008276687986\n"
     ]
    },
    {
     "name": "stderr",
     "output_type": "stream",
     "text": [
      "Epoch: 1: 100%|████████████████████████████| 1554/1554 [00:05<00:00, 308.65it/s]\n"
     ]
    },
    {
     "name": "stdout",
     "output_type": "stream",
     "text": [
      "with loss: 7155.70156301207\n"
     ]
    },
    {
     "name": "stderr",
     "output_type": "stream",
     "text": [
      "Epoch: 2: 100%|████████████████████████████| 1554/1554 [00:05<00:00, 305.58it/s]\n"
     ]
    },
    {
     "name": "stdout",
     "output_type": "stream",
     "text": [
      "with loss: 7155.756032602753\n"
     ]
    },
    {
     "name": "stderr",
     "output_type": "stream",
     "text": [
      "Epoch: 3: 100%|████████████████████████████| 1554/1554 [00:05<00:00, 309.98it/s]\n"
     ]
    },
    {
     "name": "stdout",
     "output_type": "stream",
     "text": [
      "with loss: 7155.766072790327\n"
     ]
    },
    {
     "name": "stderr",
     "output_type": "stream",
     "text": [
      "Epoch: 4: 100%|████████████████████████████| 1554/1554 [00:05<00:00, 307.89it/s]\n"
     ]
    },
    {
     "name": "stdout",
     "output_type": "stream",
     "text": [
      "with loss: 7155.767956759366\n"
     ]
    },
    {
     "name": "stderr",
     "output_type": "stream",
     "text": [
      "Epoch: 5: 100%|████████████████████████████| 1554/1554 [00:05<00:00, 304.68it/s]\n"
     ]
    },
    {
     "name": "stdout",
     "output_type": "stream",
     "text": [
      "with loss: 7155.768343551172\n"
     ]
    },
    {
     "name": "stderr",
     "output_type": "stream",
     "text": [
      "Epoch: 6: 100%|████████████████████████████| 1554/1554 [00:05<00:00, 307.42it/s]\n"
     ]
    },
    {
     "name": "stdout",
     "output_type": "stream",
     "text": [
      "with loss: 7155.768395236311\n"
     ]
    },
    {
     "name": "stderr",
     "output_type": "stream",
     "text": [
      "Epoch: 7: 100%|████████████████████████████| 1554/1554 [00:05<00:00, 308.18it/s]\n"
     ]
    },
    {
     "name": "stdout",
     "output_type": "stream",
     "text": [
      "with loss: 7155.768410863666\n"
     ]
    },
    {
     "name": "stderr",
     "output_type": "stream",
     "text": [
      "Epoch: 8: 100%|████████████████████████████| 1554/1554 [00:05<00:00, 309.39it/s]\n"
     ]
    },
    {
     "name": "stdout",
     "output_type": "stream",
     "text": [
      "with loss: 7155.768428974206\n"
     ]
    },
    {
     "name": "stderr",
     "output_type": "stream",
     "text": [
      "Epoch: 9: 100%|████████████████████████████| 1554/1554 [00:05<00:00, 308.10it/s]"
     ]
    },
    {
     "name": "stdout",
     "output_type": "stream",
     "text": [
      "with loss: 7155.768415547197\n"
     ]
    },
    {
     "name": "stderr",
     "output_type": "stream",
     "text": [
      "\n"
     ]
    }
   ],
   "source": [
    "# lets put it all together:\n",
    "wandb.init(project=\"deepGenTest\")\n",
    "hdim, odim, bsize, epochs, grad_accm_steps = 100, 8, 64, 10, 1\n",
    "model = torch.nn.Sequential(\n",
    "    torch.nn.Linear(hdim, 150),\n",
    "    torch.nn.ReLU(),\n",
    "    torch.nn.Linear(150, 200),\n",
    "    torch.nn.ReLU(),\n",
    "    torch.nn.Linear(200, 300),\n",
    "    torch.nn.ReLU(),\n",
    "    torch.nn.Linear(300, 200),\n",
    "    torch.nn.ReLU(),\n",
    "    torch.nn.Linear(200, 100),\n",
    "    torch.nn.ReLU(),\n",
    "    torch.nn.Linear(100, odim)\n",
    ")\n",
    "optimizer = torch.optim.AdamW(model.parameters(), lr=0.1, weight_decay=0)\n",
    "loss_fn = torch.nn.CrossEntropyLoss()\n",
    "Xdata = randomDataset(dataset)\n",
    "ydl = torch.utils.data.dataloader.DataLoader(dataset, batch_size=bsize, shuffle=False, collate_fn=get_y)\n",
    "Xdl = torch.utils.data.dataloader.DataLoader(Xdata, bsize, shuffle=False)\n",
    "\n",
    "for e in range(epochs):\n",
    "    epoch_loss = 0\n",
    "    for ybatch, xbatch in tqdm(zip(ydl, Xdl), total = len(ydl), leave=True, desc=f\"Epoch: {e}\"):\n",
    "        optimizer.zero_grad()\n",
    "        fwd = model(xbatch)\n",
    "        loss = loss_fn(fwd, ybatch)\n",
    "        loss.backward()\n",
    "        optimizer.step()\n",
    "        wandb.log({\"batch_loss\" : loss.item()})\n",
    "        epoch_loss += loss.item()\n",
    "    wandb.log({\"epoch_loss\" : epoch_loss})\n",
    "    print(f\"with loss: {epoch_loss}\")\n",
    "    "
   ]
  },
  {
   "cell_type": "code",
   "execution_count": null,
   "id": "a12b78be-7972-411d-9b1a-286660f8d839",
   "metadata": {},
   "outputs": [],
   "source": []
  },
  {
   "cell_type": "markdown",
   "id": "73a700d0-6565-4393-8837-57c6bd12dcc0",
   "metadata": {},
   "source": [
    "# Lets do this for civil_chat"
   ]
  },
  {
   "cell_type": "code",
   "execution_count": 11,
   "id": "0e383704-0b29-4beb-b407-7a8ffa4edbf9",
   "metadata": {},
   "outputs": [
    {
     "data": {
      "application/vnd.jupyter.widget-view+json": {
       "model_id": "59af1065d20541269f582e3432600f9b",
       "version_major": 2,
       "version_minor": 0
      },
      "text/plain": [
       "Downloading readme:   0%|          | 0.00/7.73k [00:00<?, ?B/s]"
      ]
     },
     "metadata": {},
     "output_type": "display_data"
    },
    {
     "data": {
      "application/vnd.jupyter.widget-view+json": {
       "model_id": "758a415ee21b4ba28a2d17cab3c752fd",
       "version_major": 2,
       "version_minor": 0
      },
      "text/plain": [
       "Downloading data files:   0%|          | 0/3 [00:00<?, ?it/s]"
      ]
     },
     "metadata": {},
     "output_type": "display_data"
    },
    {
     "data": {
      "application/vnd.jupyter.widget-view+json": {
       "model_id": "5b7c071a9b39466995d5f14ec3380a3c",
       "version_major": 2,
       "version_minor": 0
      },
      "text/plain": [
       "Downloading data:   0%|          | 0.00/194M [00:00<?, ?B/s]"
      ]
     },
     "metadata": {},
     "output_type": "display_data"
    },
    {
     "data": {
      "application/vnd.jupyter.widget-view+json": {
       "model_id": "c2915bb4c98f4477b31f798aabe47f12",
       "version_major": 2,
       "version_minor": 0
      },
      "text/plain": [
       "Downloading data:   0%|          | 0.00/187M [00:00<?, ?B/s]"
      ]
     },
     "metadata": {},
     "output_type": "display_data"
    },
    {
     "data": {
      "application/vnd.jupyter.widget-view+json": {
       "model_id": "a297a3f2d3064cecbdc94b7c831dd0d8",
       "version_major": 2,
       "version_minor": 0
      },
      "text/plain": [
       "Downloading data:   0%|          | 0.00/21.0M [00:00<?, ?B/s]"
      ]
     },
     "metadata": {},
     "output_type": "display_data"
    },
    {
     "data": {
      "application/vnd.jupyter.widget-view+json": {
       "model_id": "5729ee714623455a96a3cbe1e2dbe0e1",
       "version_major": 2,
       "version_minor": 0
      },
      "text/plain": [
       "Downloading data:   0%|          | 0.00/20.8M [00:00<?, ?B/s]"
      ]
     },
     "metadata": {},
     "output_type": "display_data"
    },
    {
     "data": {
      "application/vnd.jupyter.widget-view+json": {
       "model_id": "e44206ad03e64fca910eb51f835a8c8a",
       "version_major": 2,
       "version_minor": 0
      },
      "text/plain": [
       "Extracting data files:   0%|          | 0/3 [00:00<?, ?it/s]"
      ]
     },
     "metadata": {},
     "output_type": "display_data"
    },
    {
     "data": {
      "application/vnd.jupyter.widget-view+json": {
       "model_id": "87d1404125d84bb2bfa322d4de7ac0bf",
       "version_major": 2,
       "version_minor": 0
      },
      "text/plain": [
       "Generating train split:   0%|          | 0/1804874 [00:00<?, ? examples/s]"
      ]
     },
     "metadata": {},
     "output_type": "display_data"
    },
    {
     "data": {
      "application/vnd.jupyter.widget-view+json": {
       "model_id": "48f175f6b3624f7a98e13901963dd7b8",
       "version_major": 2,
       "version_minor": 0
      },
      "text/plain": [
       "Generating validation split:   0%|          | 0/97320 [00:00<?, ? examples/s]"
      ]
     },
     "metadata": {},
     "output_type": "display_data"
    },
    {
     "data": {
      "application/vnd.jupyter.widget-view+json": {
       "model_id": "5dfedfb47dd84acaa3276fdf335ef33b",
       "version_major": 2,
       "version_minor": 0
      },
      "text/plain": [
       "Generating test split:   0%|          | 0/97320 [00:00<?, ? examples/s]"
      ]
     },
     "metadata": {},
     "output_type": "display_data"
    }
   ],
   "source": [
    "civil = load_dataset(\"google/civil_comments\")"
   ]
  },
  {
   "cell_type": "code",
   "execution_count": 12,
   "id": "d88d1b17-c98c-46e2-95a1-da447f7c1147",
   "metadata": {},
   "outputs": [
    {
     "data": {
      "text/plain": [
       "3"
      ]
     },
     "execution_count": 12,
     "metadata": {},
     "output_type": "execute_result"
    }
   ],
   "source": [
    "len(civil)"
   ]
  },
  {
   "cell_type": "code",
   "execution_count": 13,
   "id": "9fcf06ee-d67f-461a-ad93-85add94e6619",
   "metadata": {},
   "outputs": [
    {
     "data": {
      "text/plain": [
       "'train'"
      ]
     },
     "execution_count": 13,
     "metadata": {},
     "output_type": "execute_result"
    }
   ],
   "source": [
    "next(iter(civil))"
   ]
  },
  {
   "cell_type": "code",
   "execution_count": 15,
   "id": "0b7cd44a-5f4a-4c42-a5c3-fa32c49654c8",
   "metadata": {},
   "outputs": [
    {
     "name": "stdout",
     "output_type": "stream",
     "text": [
      "1804874\n",
      "97320\n",
      "97320\n"
     ]
    }
   ],
   "source": [
    "for k in civil.keys():\n",
    "    print(len(civil[k]))"
   ]
  },
  {
   "cell_type": "code",
   "execution_count": 16,
   "id": "51115e66-43c2-4394-ad1a-f3ad63fd5856",
   "metadata": {},
   "outputs": [
    {
     "data": {
      "text/plain": [
       "{'text': \"This is so cool. It's like, 'would you want your mother to read this??' Really great idea, well done!\",\n",
       " 'toxicity': 0.0,\n",
       " 'severe_toxicity': 0.0,\n",
       " 'obscene': 0.0,\n",
       " 'threat': 0.0,\n",
       " 'insult': 0.0,\n",
       " 'identity_attack': 0.0,\n",
       " 'sexual_explicit': 0.0}"
      ]
     },
     "execution_count": 16,
     "metadata": {},
     "output_type": "execute_result"
    }
   ],
   "source": [
    "next(iter(civil['train']))"
   ]
  },
  {
   "cell_type": "code",
   "execution_count": 17,
   "id": "15ed3fd6-d62b-4311-a543-71664a6a7cc8",
   "metadata": {},
   "outputs": [],
   "source": [
    "def civil_collate(datum):\n",
    "    return torch.tensor(np.nan_to_num(np.array([list(l.values())[1:] for l in datum], dtype=np.float64)), dtype=torch.float64)"
   ]
  },
  {
   "cell_type": "code",
   "execution_count": 19,
   "id": "01740f13-c62a-4188-a4a1-346e15013454",
   "metadata": {},
   "outputs": [
    {
     "data": {
      "text/plain": [
       "tensor([[0., 0., 0., 0., 0., 0., 0.]], dtype=torch.float64)"
      ]
     },
     "execution_count": 19,
     "metadata": {},
     "output_type": "execute_result"
    }
   ],
   "source": [
    "civil_collate([next(iter(civil['train']))])"
   ]
  },
  {
   "cell_type": "code",
   "execution_count": 21,
   "id": "08919aee-4809-47db-9f7f-b6614371ecf2",
   "metadata": {},
   "outputs": [
    {
     "data": {
      "text/html": [
       "Finishing last run (ID:wqbtabwu) before initializing another..."
      ],
      "text/plain": [
       "<IPython.core.display.HTML object>"
      ]
     },
     "metadata": {},
     "output_type": "display_data"
    },
    {
     "data": {
      "application/vnd.jupyter.widget-view+json": {
       "model_id": "67e127bb16304dbca7a4fae2706b90e6",
       "version_major": 2,
       "version_minor": 0
      },
      "text/plain": [
       "VBox(children=(Label(value='0.001 MB of 0.001 MB uploaded\\r'), FloatProgress(value=1.0, max=1.0)))"
      ]
     },
     "metadata": {},
     "output_type": "display_data"
    },
    {
     "data": {
      "text/html": [
       "<style>\n",
       "    table.wandb td:nth-child(1) { padding: 0 10px; text-align: left ; width: auto;} td:nth-child(2) {text-align: left ; width: 100%}\n",
       "    .wandb-row { display: flex; flex-direction: row; flex-wrap: wrap; justify-content: flex-start; width: 100% }\n",
       "    .wandb-col { display: flex; flex-direction: column; flex-basis: 100%; flex: 1; padding: 10px; }\n",
       "    </style>\n",
       "<div class=\"wandb-row\"><div class=\"wandb-col\"><h3>Run history:</h3><br/><table class=\"wandb\"><tr><td>batch_loss</td><td>▁▃▃▄▃▂▃▂▁▃▂▂▃▃▄▂▂▁▃▃▄▄▂▂▂▁▅▃▃▂▄▄▅▃█▄▂▃▃▄</td></tr></table><br/></div><div class=\"wandb-col\"><h3>Run summary:</h3><br/><table class=\"wandb\"><tr><td>batch_loss</td><td>0.15656</td></tr></table><br/></div></div>"
      ],
      "text/plain": [
       "<IPython.core.display.HTML object>"
      ]
     },
     "metadata": {},
     "output_type": "display_data"
    },
    {
     "data": {
      "text/html": [
       " View run <strong style=\"color:#cdcd00\">cosmic-rain-7</strong> at: <a href='https://wandb.ai/lowercaselabs/deepGenTest/runs/wqbtabwu' target=\"_blank\">https://wandb.ai/lowercaselabs/deepGenTest/runs/wqbtabwu</a><br/> View job at <a href='https://wandb.ai/lowercaselabs/deepGenTest/jobs/QXJ0aWZhY3RDb2xsZWN0aW9uOjE2MzQxNjkzMA==/version_details/v3' target=\"_blank\">https://wandb.ai/lowercaselabs/deepGenTest/jobs/QXJ0aWZhY3RDb2xsZWN0aW9uOjE2MzQxNjkzMA==/version_details/v3</a><br/>Synced 5 W&B file(s), 0 media file(s), 0 artifact file(s) and 0 other file(s)"
      ],
      "text/plain": [
       "<IPython.core.display.HTML object>"
      ]
     },
     "metadata": {},
     "output_type": "display_data"
    },
    {
     "data": {
      "text/html": [
       "Find logs at: <code>./wandb/run-20240416_220411-wqbtabwu/logs</code>"
      ],
      "text/plain": [
       "<IPython.core.display.HTML object>"
      ]
     },
     "metadata": {},
     "output_type": "display_data"
    },
    {
     "data": {
      "text/html": [
       "Successfully finished last run (ID:wqbtabwu). Initializing new run:<br/>"
      ],
      "text/plain": [
       "<IPython.core.display.HTML object>"
      ]
     },
     "metadata": {},
     "output_type": "display_data"
    },
    {
     "data": {
      "application/vnd.jupyter.widget-view+json": {
       "model_id": "5f6c6555a3a2415abe26bc1e29acc84b",
       "version_major": 2,
       "version_minor": 0
      },
      "text/plain": [
       "VBox(children=(Label(value='Waiting for wandb.init()...\\r'), FloatProgress(value=0.011339938888947168, max=1.0…"
      ]
     },
     "metadata": {},
     "output_type": "display_data"
    },
    {
     "data": {
      "text/html": [
       "wandb version 0.16.6 is available!  To upgrade, please run:\n",
       " $ pip install wandb --upgrade"
      ],
      "text/plain": [
       "<IPython.core.display.HTML object>"
      ]
     },
     "metadata": {},
     "output_type": "display_data"
    },
    {
     "data": {
      "text/html": [
       "Tracking run with wandb version 0.16.2"
      ],
      "text/plain": [
       "<IPython.core.display.HTML object>"
      ]
     },
     "metadata": {},
     "output_type": "display_data"
    },
    {
     "data": {
      "text/html": [
       "Run data is saved locally in <code>/Users/zubin/Documents/lowercaseLabs/wandb/run-20240416_220454-n935dy91</code>"
      ],
      "text/plain": [
       "<IPython.core.display.HTML object>"
      ]
     },
     "metadata": {},
     "output_type": "display_data"
    },
    {
     "data": {
      "text/html": [
       "Syncing run <strong><a href='https://wandb.ai/lowercaselabs/deepGenTest/runs/n935dy91' target=\"_blank\">effortless-paper-8</a></strong> to <a href='https://wandb.ai/lowercaselabs/deepGenTest' target=\"_blank\">Weights & Biases</a> (<a href='https://wandb.me/run' target=\"_blank\">docs</a>)<br/>"
      ],
      "text/plain": [
       "<IPython.core.display.HTML object>"
      ]
     },
     "metadata": {},
     "output_type": "display_data"
    },
    {
     "data": {
      "text/html": [
       " View project at <a href='https://wandb.ai/lowercaselabs/deepGenTest' target=\"_blank\">https://wandb.ai/lowercaselabs/deepGenTest</a>"
      ],
      "text/plain": [
       "<IPython.core.display.HTML object>"
      ]
     },
     "metadata": {},
     "output_type": "display_data"
    },
    {
     "data": {
      "text/html": [
       " View run at <a href='https://wandb.ai/lowercaselabs/deepGenTest/runs/n935dy91' target=\"_blank\">https://wandb.ai/lowercaselabs/deepGenTest/runs/n935dy91</a>"
      ],
      "text/plain": [
       "<IPython.core.display.HTML object>"
      ]
     },
     "metadata": {},
     "output_type": "display_data"
    },
    {
     "name": "stderr",
     "output_type": "stream",
     "text": [
      "Epoch: 0: 100%|██████████████████████████| 28202/28202 [00:46<00:00, 600.35it/s]"
     ]
    },
    {
     "name": "stdout",
     "output_type": "stream",
     "text": [
      "with loss: 9674.690395228059\n"
     ]
    },
    {
     "name": "stderr",
     "output_type": "stream",
     "text": [
      "\n"
     ]
    }
   ],
   "source": [
    "# lets put it all together:\n",
    "wandb.init(project=\"deepGenTest\")\n",
    "hdim, odim, bsize, epochs, grad_accm_steps = 100, 7, 64, 1, 1\n",
    "model = torch.nn.Sequential(\n",
    "    torch.nn.Linear(hdim, 150),\n",
    "    torch.nn.ReLU(),\n",
    "    torch.nn.Linear(150, 200),\n",
    "    # torch.nn.ReLU(),\n",
    "    # torch.nn.Linear(200, 300),\n",
    "    # torch.nn.ReLU(),\n",
    "    # torch.nn.Linear(300, 200),\n",
    "    torch.nn.ReLU(),\n",
    "    torch.nn.Linear(200, 100),\n",
    "    torch.nn.ReLU(),\n",
    "    torch.nn.Linear(100, odim)\n",
    ")\n",
    "optimizer = torch.optim.AdamW(model.parameters(), lr=0.1, weight_decay=0)\n",
    "loss_fn = torch.nn.CrossEntropyLoss()\n",
    "Xdata = randomDataset(civil['train'])\n",
    "ydl = torch.utils.data.dataloader.DataLoader(civil['train'], batch_size=bsize, shuffle=False, collate_fn=civil_collate)\n",
    "Xdl = torch.utils.data.dataloader.DataLoader(Xdata, bsize, shuffle=False)\n",
    "\n",
    "for e in range(epochs):\n",
    "    epoch_loss = 0\n",
    "    for ybatch, xbatch in tqdm(zip(ydl, Xdl), total = len(ydl), leave=True, desc=f\"Epoch: {e}\"):\n",
    "        optimizer.zero_grad()\n",
    "        fwd = model(xbatch)\n",
    "        loss = loss_fn(fwd, ybatch)\n",
    "        loss.backward()\n",
    "        optimizer.step()\n",
    "        wandb.log({\"batch_loss\" : loss.item()})\n",
    "        epoch_loss += loss.item()\n",
    "    wandb.log({\"epoch_loss\" : epoch_loss})\n",
    "    print(f\"with loss: {epoch_loss}\")\n",
    "    "
   ]
  },
  {
   "cell_type": "code",
   "execution_count": 27,
   "id": "4a6dd25c-0b58-465f-b3be-1dc8adadfe03",
   "metadata": {},
   "outputs": [
    {
     "data": {
      "text/plain": [
       "torch.Size([64, 7])"
      ]
     },
     "execution_count": 27,
     "metadata": {},
     "output_type": "execute_result"
    }
   ],
   "source": [
    "y = next(iter(ydl))\n",
    "model(next(iter(Xdl))).shape"
   ]
  },
  {
   "cell_type": "code",
   "execution_count": 28,
   "id": "bebad7bb-fb1b-49dd-a4d5-de52e95caf8b",
   "metadata": {},
   "outputs": [
    {
     "data": {
      "text/plain": [
       "torch.Size([64, 7])"
      ]
     },
     "execution_count": 28,
     "metadata": {},
     "output_type": "execute_result"
    }
   ],
   "source": [
    "y.shape"
   ]
  },
  {
   "cell_type": "code",
   "execution_count": null,
   "id": "cc795257-6659-4154-aca7-920e2f476865",
   "metadata": {},
   "outputs": [],
   "source": []
  }
 ],
 "metadata": {
  "kernelspec": {
   "display_name": "Python 3 (ipykernel)",
   "language": "python",
   "name": "python3"
  },
  "language_info": {
   "codemirror_mode": {
    "name": "ipython",
    "version": 3
   },
   "file_extension": ".py",
   "mimetype": "text/x-python",
   "name": "python",
   "nbconvert_exporter": "python",
   "pygments_lexer": "ipython3",
   "version": "3.9.10"
  }
 },
 "nbformat": 4,
 "nbformat_minor": 5
}
