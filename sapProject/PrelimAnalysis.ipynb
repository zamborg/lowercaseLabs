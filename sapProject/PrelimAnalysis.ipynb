{
 "cells": [
  {
   "cell_type": "code",
   "execution_count": 1,
   "id": "acadcf5e-ba19-4875-8dcb-4f8aa91aeb68",
   "metadata": {},
   "outputs": [],
   "source": [
    "%load_ext autoreload\n",
    "%autoreload 2"
   ]
  },
  {
   "cell_type": "code",
   "execution_count": 2,
   "id": "b29d4f0b-78f0-420a-be0c-68b9fc1d2200",
   "metadata": {},
   "outputs": [],
   "source": [
    "import os\n",
    "import sys\n",
    "import json"
   ]
  },
  {
   "cell_type": "code",
   "execution_count": 23,
   "id": "0bcc2da1-aca7-4302-b9d1-8e28a8d58846",
   "metadata": {},
   "outputs": [],
   "source": [
    "import pandas as pd"
   ]
  },
  {
   "cell_type": "markdown",
   "id": "842ba212-ffd6-4478-a0e9-1921d6b9b37e",
   "metadata": {},
   "source": [
    "# PRELIM Analysis WAE / AAVE Data"
   ]
  },
  {
   "cell_type": "code",
   "execution_count": 7,
   "id": "8228491b-7c96-4c37-9cd9-394553bada9f",
   "metadata": {},
   "outputs": [],
   "source": [
    "def load_data(fp):\n",
    "    data = []\n",
    "    with open(fp) as f:\n",
    "        for l in f.readlines():\n",
    "            data.append(json.loads(l))\n",
    "    return data"
   ]
  },
  {
   "cell_type": "code",
   "execution_count": 8,
   "id": "8035737e-232c-4429-8501-41aa7dac7f7f",
   "metadata": {},
   "outputs": [],
   "source": [
    "aave_data = load_data(\"./AAVE.jsonl\")\n",
    "wae_data = load_data(\"./WAE.jsonl\")"
   ]
  },
  {
   "cell_type": "code",
   "execution_count": 10,
   "id": "8875ff53-fdc2-4ebc-9dab-a3c88f982047",
   "metadata": {},
   "outputs": [
    {
     "data": {
      "text/plain": [
       "[{'text': \"Sooo Manti Te'o was having a online/phone relationship with a guy pretendingto be a female -_-\",\n",
       "  'toxicity': 0.31963667,\n",
       "  'severe_toxicity': 0.011291504,\n",
       "  'insult': 0.071750276,\n",
       "  'flirtation': 0.41202375,\n",
       "  'profanity': 0.15283443,\n",
       "  'sexually_explicit': 0.40147725,\n",
       "  'threat': 0.009851551,\n",
       "  'identity_attack': 0.07673789}]"
      ]
     },
     "execution_count": 10,
     "metadata": {},
     "output_type": "execute_result"
    }
   ],
   "source": [
    "aave_data[:1]"
   ]
  },
  {
   "cell_type": "code",
   "execution_count": 11,
   "id": "edb0edf6-1990-474a-9bad-d92bf64a4f50",
   "metadata": {},
   "outputs": [
    {
     "data": {
      "text/plain": [
       "[{'text': \"Manti Te'o was having a relationship via telephone/internet with a man pretending to be female.\",\n",
       "  'toxicity': 0.20172562,\n",
       "  'severe_toxicity': 0.008392334,\n",
       "  'insult': 0.04383647,\n",
       "  'flirtation': 0.34389514,\n",
       "  'profanity': 0.10425757,\n",
       "  'sexually_explicit': 0.3934218,\n",
       "  'threat': 0.011120236,\n",
       "  'identity_attack': 0.04512853}]"
      ]
     },
     "execution_count": 11,
     "metadata": {},
     "output_type": "execute_result"
    }
   ],
   "source": [
    "wae_data[:1]"
   ]
  },
  {
   "cell_type": "code",
   "execution_count": 22,
   "id": "0969c5d7-8f4e-4944-91e7-67f1f06d4352",
   "metadata": {},
   "outputs": [],
   "source": [
    "aave_data, wae_data = pd.DataFrame(aave_data), pd.DataFrame(wae_data)"
   ]
  },
  {
   "cell_type": "code",
   "execution_count": 24,
   "id": "cea40b0b-0192-4133-9db1-6433eb41a0a6",
   "metadata": {},
   "outputs": [],
   "source": [
    "wae_stats = pd.DataFrame(wae_data).iloc[:,1:].describe()\n",
    "aave_stats= pd.DataFrame(aave_data).iloc[:,1:].describe()"
   ]
  },
  {
   "cell_type": "code",
   "execution_count": 25,
   "id": "6e54aa61-0c99-48d9-a7c4-78646bcc7ac1",
   "metadata": {},
   "outputs": [
    {
     "data": {
      "text/html": [
       "<div>\n",
       "<style scoped>\n",
       "    .dataframe tbody tr th:only-of-type {\n",
       "        vertical-align: middle;\n",
       "    }\n",
       "\n",
       "    .dataframe tbody tr th {\n",
       "        vertical-align: top;\n",
       "    }\n",
       "\n",
       "    .dataframe thead th {\n",
       "        text-align: right;\n",
       "    }\n",
       "</style>\n",
       "<table border=\"1\" class=\"dataframe\">\n",
       "  <thead>\n",
       "    <tr style=\"text-align: right;\">\n",
       "      <th></th>\n",
       "      <th>toxicity</th>\n",
       "      <th>severe_toxicity</th>\n",
       "      <th>insult</th>\n",
       "      <th>flirtation</th>\n",
       "      <th>profanity</th>\n",
       "      <th>sexually_explicit</th>\n",
       "      <th>threat</th>\n",
       "      <th>identity_attack</th>\n",
       "    </tr>\n",
       "  </thead>\n",
       "  <tbody>\n",
       "    <tr>\n",
       "      <th>count</th>\n",
       "      <td>0.000000</td>\n",
       "      <td>0.000000</td>\n",
       "      <td>0.000000</td>\n",
       "      <td>0.000000</td>\n",
       "      <td>0.000000</td>\n",
       "      <td>0.000000</td>\n",
       "      <td>0.000000</td>\n",
       "      <td>0.000000</td>\n",
       "    </tr>\n",
       "    <tr>\n",
       "      <th>mean</th>\n",
       "      <td>0.060028</td>\n",
       "      <td>0.038876</td>\n",
       "      <td>0.044387</td>\n",
       "      <td>0.032048</td>\n",
       "      <td>0.060390</td>\n",
       "      <td>0.033062</td>\n",
       "      <td>0.011286</td>\n",
       "      <td>0.039266</td>\n",
       "    </tr>\n",
       "    <tr>\n",
       "      <th>std</th>\n",
       "      <td>0.011019</td>\n",
       "      <td>0.036036</td>\n",
       "      <td>0.020101</td>\n",
       "      <td>-0.011896</td>\n",
       "      <td>0.007004</td>\n",
       "      <td>0.002272</td>\n",
       "      <td>0.007124</td>\n",
       "      <td>0.064906</td>\n",
       "    </tr>\n",
       "    <tr>\n",
       "      <th>min</th>\n",
       "      <td>-0.002717</td>\n",
       "      <td>-0.000021</td>\n",
       "      <td>-0.000770</td>\n",
       "      <td>0.010897</td>\n",
       "      <td>0.000094</td>\n",
       "      <td>-0.000413</td>\n",
       "      <td>-0.000087</td>\n",
       "      <td>-0.000074</td>\n",
       "    </tr>\n",
       "    <tr>\n",
       "      <th>25%</th>\n",
       "      <td>0.018554</td>\n",
       "      <td>0.000701</td>\n",
       "      <td>0.004362</td>\n",
       "      <td>0.045090</td>\n",
       "      <td>0.005397</td>\n",
       "      <td>0.004807</td>\n",
       "      <td>0.000466</td>\n",
       "      <td>0.000740</td>\n",
       "    </tr>\n",
       "    <tr>\n",
       "      <th>50%</th>\n",
       "      <td>0.088689</td>\n",
       "      <td>0.004807</td>\n",
       "      <td>0.033057</td>\n",
       "      <td>0.043668</td>\n",
       "      <td>0.052226</td>\n",
       "      <td>0.024036</td>\n",
       "      <td>0.001631</td>\n",
       "      <td>0.004382</td>\n",
       "    </tr>\n",
       "    <tr>\n",
       "      <th>75%</th>\n",
       "      <td>0.167796</td>\n",
       "      <td>0.146526</td>\n",
       "      <td>0.121364</td>\n",
       "      <td>0.027188</td>\n",
       "      <td>0.241750</td>\n",
       "      <td>0.102294</td>\n",
       "      <td>0.017698</td>\n",
       "      <td>0.026858</td>\n",
       "    </tr>\n",
       "    <tr>\n",
       "      <th>max</th>\n",
       "      <td>-0.007535</td>\n",
       "      <td>0.052360</td>\n",
       "      <td>-0.029740</td>\n",
       "      <td>0.000000</td>\n",
       "      <td>-0.004733</td>\n",
       "      <td>-0.017883</td>\n",
       "      <td>-0.107112</td>\n",
       "      <td>0.000000</td>\n",
       "    </tr>\n",
       "  </tbody>\n",
       "</table>\n",
       "</div>"
      ],
      "text/plain": [
       "       toxicity  severe_toxicity    insult  flirtation  profanity  \\\n",
       "count  0.000000         0.000000  0.000000    0.000000   0.000000   \n",
       "mean   0.060028         0.038876  0.044387    0.032048   0.060390   \n",
       "std    0.011019         0.036036  0.020101   -0.011896   0.007004   \n",
       "min   -0.002717        -0.000021 -0.000770    0.010897   0.000094   \n",
       "25%    0.018554         0.000701  0.004362    0.045090   0.005397   \n",
       "50%    0.088689         0.004807  0.033057    0.043668   0.052226   \n",
       "75%    0.167796         0.146526  0.121364    0.027188   0.241750   \n",
       "max   -0.007535         0.052360 -0.029740    0.000000  -0.004733   \n",
       "\n",
       "       sexually_explicit    threat  identity_attack  \n",
       "count           0.000000  0.000000         0.000000  \n",
       "mean            0.033062  0.011286         0.039266  \n",
       "std             0.002272  0.007124         0.064906  \n",
       "min            -0.000413 -0.000087        -0.000074  \n",
       "25%             0.004807  0.000466         0.000740  \n",
       "50%             0.024036  0.001631         0.004382  \n",
       "75%             0.102294  0.017698         0.026858  \n",
       "max            -0.017883 -0.107112         0.000000  "
      ]
     },
     "execution_count": 25,
     "metadata": {},
     "output_type": "execute_result"
    }
   ],
   "source": [
    "aave_stats - wae_stats"
   ]
  },
  {
   "cell_type": "code",
   "execution_count": 21,
   "id": "dbdd3612-4b6d-4cfd-84e6-746873bffe73",
   "metadata": {},
   "outputs": [],
   "source": [
    "import matplotlib.pyplot as plt"
   ]
  },
  {
   "cell_type": "code",
   "execution_count": 39,
   "id": "b8a4dee1-512f-45c0-8ca1-04e3abef1401",
   "metadata": {},
   "outputs": [
    {
     "name": "stderr",
     "output_type": "stream",
     "text": [
      "/var/folders/cl/_rfsk31s4z983g2y2zq9cvb00000gn/T/ipykernel_87818/2694445964.py:10: UserWarning: FigureCanvasAgg is non-interactive, and thus cannot be shown\n",
      "  fig.show()\n"
     ]
    },
    {
     "data": {
      "image/png": "[encoded data removed]",
      "text/plain": [
       "<Figure size 720x2160 with 16 Axes>"
      ]
     },
     "metadata": {
      "needs_background": "light"
     },
     "output_type": "display_data"
    }
   ],
   "source": [
    "fig, ax = plt.subplots(nrows=len(aave_data.columns[1:]), ncols=2, figsize=(10, 30))\n",
    "for i, cname in enumerate(aave_data.columns[1:]):\n",
    "    \n",
    "    ax[i, 0].hist(aave_data[cname])\n",
    "    ax[i,0].set_title(f\"AAVE {cname}\")\n",
    "    \n",
    "    ax[i,1].hist(wae_data[cname])\n",
    "    ax[i,1].set_title(f\"WAE {cname}\")\n",
    "\n",
    "fig.show()\n",
    "    "
   ]
  },
  {
   "cell_type": "code",
   "execution_count": null,
   "id": "4c4cba61-0c47-4a13-a310-65895cd881d6",
   "metadata": {},
   "outputs": [],
   "source": []
  },
  {
   "cell_type": "code",
   "execution_count": null,
   "id": "719f96a6-fb91-4fe2-acae-c3189e72976c",
   "metadata": {},
   "outputs": [],
   "source": []
  },
  {
   "cell_type": "code",
   "execution_count": null,
   "id": "1cb04937-9833-4667-83cf-59d8e76e54c7",
   "metadata": {},
   "outputs": [],
   "source": []
  },
  {
   "cell_type": "code",
   "execution_count": null,
   "id": "f79d8be4-8696-4212-86f9-f2e1de684d6a",
   "metadata": {},
   "outputs": [],
   "source": []
  },
  {
   "cell_type": "markdown",
   "id": "5e060697-ea54-4abe-a1f4-f72e6dfe66e7",
   "metadata": {},
   "source": [
    "# Prelim Analysis AAL Dataset"
   ]
  },
  {
   "cell_type": "code",
   "execution_count": 41,
   "id": "a7da3ad6-6adb-4cb9-8f14-03fad5841248",
   "metadata": {},
   "outputs": [],
   "source": [
    "def load_aal(fp):\n",
    "    return pd.read_csv(fp)"
   ]
  },
  {
   "cell_type": "code",
   "execution_count": 44,
   "id": "f47e1eca-eaae-46ba-9437-56f8c55755e3",
   "metadata": {},
   "outputs": [],
   "source": [
    "# lets confirm if one is a subset of the other:\n",
    "feval, fprompts = load_aal(\"./AAL dataset/final_eval_aal.csv\"), load_aal(\"./AAL dataset/final_prompts_aal.csv\")"
   ]
  },
  {
   "cell_type": "code",
   "execution_count": 48,
   "id": "ce2eda88-8567-49b9-bb5e-2def7b59bfde",
   "metadata": {},
   "outputs": [],
   "source": [
    "s1, s2, s3, s4 = set(feval['aal_text']), set(feval['wme_text']), set(fprompts['aal_text']), set(fprompts['wme_text'])"
   ]
  },
  {
   "cell_type": "code",
   "execution_count": 49,
   "id": "b3202726-4132-4b5c-b175-5fef4ea51d00",
   "metadata": {},
   "outputs": [
    {
     "data": {
      "text/plain": [
       "(274, 274, 70, 72)"
      ]
     },
     "execution_count": 49,
     "metadata": {},
     "output_type": "execute_result"
    }
   ],
   "source": [
    "len(s1), len(s2), len(s3), len(s4)"
   ]
  },
  {
   "cell_type": "code",
   "execution_count": 55,
   "id": "a1bae690-96fd-46cf-9e45-f782bcf885ec",
   "metadata": {},
   "outputs": [
    {
     "name": "stdout",
     "output_type": "stream",
     "text": [
      "s1 s2 31\n",
      "s1 s3 0\n",
      "s1 s4 0\n",
      "s2 s3 0\n",
      "s2 s4 0\n",
      "s3 s4 5\n"
     ]
    }
   ],
   "source": [
    "# okay so from this we know that there are instances in which we have duplicate text but only across AAL and WME text (which makes sense)\n",
    "for i in range(4):\n",
    "    for j in range(i+1,4):\n",
    "        print([\"s1\", \"s2\", \"s3\", \"s4\"][i], [\"s1\", \"s2\", \"s3\", \"s4\"][j], len([s1,s2,s3,s4][i].intersection([s1,s2,s3,s4][j])))"
   ]
  },
  {
   "cell_type": "code",
   "execution_count": null,
   "id": "a1c0342e-7559-4340-a12c-1f3fc5db0a1a",
   "metadata": {},
   "outputs": [],
   "source": [
    "# okay we can now run our reward models on this data"
   ]
  },
  {
   "cell_type": "markdown",
   "id": "0c71c824-42ce-4bc1-8e51-afc09d10d37b",
   "metadata": {},
   "source": [
    "## AAL Dataset/Loader"
   ]
  },
  {
   "cell_type": "code",
   "execution_count": 87,
   "id": "d52e2465-d698-4018-a60a-ee5bb0c17c92",
   "metadata": {
    "tags": []
   },
   "outputs": [
    {
     "name": "stdout",
     "output_type": "stream",
     "text": [
      "{'aae': [\"I see 20-year-olds who can barely use Microsoft Office to complete their assignments, and suddenly, I'm grateful for my grade 7 computer class that at the time, I thought was completely useless because Mavis Beacon had already taught me how to type and I was already quite comfortable with Word and PowerPoint.\", \"so I'm definitely gonna be there.\", 'Then she drinking wine too.', 'For instance, if you get pregnant, your child will have a secured 2 parent household and a more stable setting.'], 'wae': [\"I see 20-year-olds who can barely use Microsoft Office to complete their assignments, and suddenly, I'm grateful for my grade 7 computer class that at the time, I thought was completely useless because Mavis Beacon had already taught me how to type and I was quite comfortable with Word and PowerPoint\", 'So, im definitely going to be there.', 'Then, she is drinking wine too', 'For instance, if you get pregnant, your child will have a secured 2 parent household and a more stable setting']}\n"
     ]
    }
   ],
   "source": [
    "import torch\n",
    "from torch.utils.data import Dataset, DataLoader\n",
    "import numpy as np\n",
    "\n",
    "class AALDataset(Dataset):\n",
    "    def __init__(self, dataframe):\n",
    "        \"\"\"\n",
    "        Initialize data by storing the dataframe.\n",
    "        Assume dataframe 'aal' has three columns, and we are interested in the last two.\n",
    "        \"\"\"\n",
    "        self.data = dataframe.to_numpy()[:,1:]\n",
    "\n",
    "    def __len__(self):\n",
    "        \"\"\"\n",
    "        Return the total number of samples in the dataset.\n",
    "        \"\"\"\n",
    "        return len(self.data)\n",
    "\n",
    "    def __getitem__(self, idx):\n",
    "        \"\"\"\n",
    "        Retrieve a single item from the dataset at the specified index.\n",
    "        \"\"\"\n",
    "        aae, wae = self.data[idx, :]\n",
    "        # Convert row to tensor: assuming the columns are categorical strings,\n",
    "        # you might later need to handle categorical conversion. Here we return them as is.\n",
    "        return {'aae': aae, 'wae' : wae}\n",
    "\n",
    "# Example usage:\n",
    "# Assuming 'aal' is your pandas DataFrame\n",
    "dataset = AALDataset(feval)\n",
    "# Parameters for the DataLoader\n",
    "batch_size = 4  # example batch size, adjust as needed\n",
    "shuffle = False  # shuffle the data for training purposes, set False if not needed\n",
    "\n",
    "# Create DataLoader\n",
    "dataloader = DataLoader(dataset, batch_size=batch_size, shuffle=shuffle)\n",
    "\n",
    "# Example of iterating over DataLoader\n",
    "for batch in dataloader:\n",
    "    print(batch)  # Each batch is a list of strings from the last two columns of 'aal'\n",
    "    break"
   ]
  },
  {
   "cell_type": "code",
   "execution_count": 1,
   "id": "fa1877da-274e-45b1-92dc-eea0bb901701",
   "metadata": {},
   "outputs": [
    {
     "name": "stderr",
     "output_type": "stream",
     "text": [
      "You set `add_prefix_space`. The tokenizer needs to be converted from the slow tokenizers\n"
     ]
    }
   ],
   "source": [
    "# lets load a reward model:\n",
    "from transformers import AutoTokenizer, Pipeline, QuantoConfig, AutoModel\n",
    "reward_model_name = \"weqweasdas/RM-Mistral-7B\"\n",
    "qconfig = QuantoConfig(weights='float8') # should this be int8?\n",
    "pipeline_name = \"sentiment-analysis\"\n",
    "tokenizer = AutoTokenizer.from_pretrained(reward_model_name)\n",
    "# tokenizer = "
   ]
  },
  {
   "cell_type": "code",
   "execution_count": 11,
   "id": "17fe1692-377b-4be6-893d-a929240daccc",
   "metadata": {},
   "outputs": [
    {
     "data": {
      "text/plain": [
       "'[INST] This is a sample prompt [/INST]'"
      ]
     },
     "execution_count": 11,
     "metadata": {},
     "output_type": "execute_result"
    }
   ],
   "source": [
    "# This is how to tokenize this\n",
    "tokenizer.apply_chat_template([{\"role\":\"user\", \"content\":\"This is a sample prompt\"}], tokenize=False, add_generation_prompt=False).replace(tokenizer.bos_token, \"\")"
   ]
  },
  {
   "cell_type": "code",
   "execution_count": 13,
   "id": "21ac30df-d705-46d4-9999-3310996b0dfa",
   "metadata": {},
   "outputs": [
    {
     "name": "stderr",
     "output_type": "stream",
     "text": [
      "`low_cpu_mem_usage` was None, now set to True since model is quantized.\n"
     ]
    },
    {
     "data": {
      "application/vnd.jupyter.widget-view+json": {
       "model_id": "1ce1c71dd238472b8b117e61209aa6d1",
       "version_major": 2,
       "version_minor": 0
      },
      "text/plain": [
       "Downloading shards:   0%|          | 0/3 [00:00<?, ?it/s]"
      ]
     },
     "metadata": {},
     "output_type": "display_data"
    },
    {
     "data": {
      "application/vnd.jupyter.widget-view+json": {
       "model_id": "0a17718c50714569a37c60e910f72157",
       "version_major": 2,
       "version_minor": 0
      },
      "text/plain": [
       "model-00001-of-00003.safetensors:   0%|          | 0.00/4.94G [00:00<?, ?B/s]"
      ]
     },
     "metadata": {},
     "output_type": "display_data"
    },
    {
     "data": {
      "application/vnd.jupyter.widget-view+json": {
       "model_id": "e3fa980d87d6476fa1b62fd76a9e7e54",
       "version_major": 2,
       "version_minor": 0
      },
      "text/plain": [
       "model-00002-of-00003.safetensors:   0%|          | 0.00/5.00G [00:00<?, ?B/s]"
      ]
     },
     "metadata": {},
     "output_type": "display_data"
    },
    {
     "data": {
      "application/vnd.jupyter.widget-view+json": {
       "model_id": "a08fdf2b4e3c482496c0f5afaf229fbc",
       "version_major": 2,
       "version_minor": 0
      },
      "text/plain": [
       "model-00003-of-00003.safetensors:   0%|          | 0.00/4.28G [00:00<?, ?B/s]"
      ]
     },
     "metadata": {},
     "output_type": "display_data"
    },
    {
     "data": {
      "application/vnd.jupyter.widget-view+json": {
       "model_id": "c2e7d618b484430a899636ed966950ed",
       "version_major": 2,
       "version_minor": 0
      },
      "text/plain": [
       "Loading checkpoint shards:   0%|          | 0/3 [00:00<?, ?it/s]"
      ]
     },
     "metadata": {},
     "output_type": "display_data"
    }
   ],
   "source": [
    "model = AutoModel.from_pretrained(reward_model_name, quantization_config=qconfig)"
   ]
  },
  {
   "cell_type": "code",
   "execution_count": null,
   "id": "f650fcc4-3b7f-4ed8-90db-2d8c252b0f27",
   "metadata": {},
   "outputs": [],
   "source": []
  }
 ],
 "metadata": {
  "kernelspec": {
   "display_name": "Python 3 (ipykernel)",
   "language": "python",
   "name": "python3"
  },
  "language_info": {
   "codemirror_mode": {
    "name": "ipython",
    "version": 3
   },
   "file_extension": ".py",
   "mimetype": "text/x-python",
   "name": "python",
   "nbconvert_exporter": "python",
   "pygments_lexer": "ipython3",
   "version": "3.9.10"
  }
 },
 "nbformat": 4,
 "nbformat_minor": 5
}
